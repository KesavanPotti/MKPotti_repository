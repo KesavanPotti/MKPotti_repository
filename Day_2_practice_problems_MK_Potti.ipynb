{
  "nbformat": 4,
  "nbformat_minor": 0,
  "metadata": {
    "colab": {
      "provenance": [],
      "authorship_tag": "ABX9TyNLvbQjN6b3u7OGiRJcvj9k",
      "include_colab_link": true
    },
    "kernelspec": {
      "name": "python3",
      "display_name": "Python 3"
    },
    "language_info": {
      "name": "python"
    }
  },
  "cells": [
    {
      "cell_type": "markdown",
      "metadata": {
        "id": "view-in-github",
        "colab_type": "text"
      },
      "source": [
        "<a href=\"https://colab.research.google.com/github/KesavanPotti/MKPotti_repository/blob/main/Day_2_practice_problems_MK_Potti.ipynb\" target=\"_parent\"><img src=\"https://colab.research.google.com/assets/colab-badge.svg\" alt=\"Open In Colab\"/></a>"
      ]
    },
    {
      "cell_type": "markdown",
      "source": [
        "Practice problem 1"
      ],
      "metadata": {
        "id": "UQTTigwGymkZ"
      }
    },
    {
      "cell_type": "code",
      "execution_count": null,
      "metadata": {
        "colab": {
          "base_uri": "https://localhost:8080/"
        },
        "id": "5wt9tBWSuDMr",
        "outputId": "a4170ca2-fc1b-4aed-f49b-4a6bf6ce7254"
      },
      "outputs": [
        {
          "output_type": "stream",
          "name": "stdout",
          "text": [
            "Given list is  [10, 20, 30, 40, 50, 60]\n",
            "The sum of all elements in the list is  210\n"
          ]
        }
      ],
      "source": [
        "l1 = [10,20,30,40,50,60]\n",
        "list_sum= 10+20+30+40+50+60\n",
        "print('Given list is ',l1)\n",
        "print(\"The sum of all elements in the list is \",list_sum)"
      ]
    },
    {
      "cell_type": "markdown",
      "source": [
        "Practice problem 2(a)"
      ],
      "metadata": {
        "id": "7P_Wl6nWzGDv"
      }
    },
    {
      "cell_type": "code",
      "source": [
        "s1 = 'Hello Good Morning everybody'\n",
        "print('Hello Good Morning everybody')\n",
        "print('Length of the given string is ', end=' ')\n",
        "print(len(s1))\n",
        "\n",
        "print(\"The first half of the given string is \",end=' ')\n",
        "print(s1[0:14])\n"
      ],
      "metadata": {
        "colab": {
          "base_uri": "https://localhost:8080/"
        },
        "id": "mwo91l5zzLoQ",
        "outputId": "63de9f7d-d985-436c-e072-c1ed213d980a"
      },
      "execution_count": 1,
      "outputs": [
        {
          "output_type": "stream",
          "name": "stdout",
          "text": [
            "Hello Good Morning everybody\n",
            "Length of the given string is  28\n",
            "The first half of the given string is  Hello Good Mor\n"
          ]
        }
      ]
    },
    {
      "cell_type": "markdown",
      "source": [
        "Practice problem 2(b)"
      ],
      "metadata": {
        "id": "6AZeBuPW0zXZ"
      }
    },
    {
      "cell_type": "code",
      "source": [
        "s1 = 'Hello Good Morning everybody'\n",
        "print('Hello Good Morning everybody')\n",
        "print('The first half of the given string is', end=' ')\n",
        "print(s1[0:14])"
      ],
      "metadata": {
        "colab": {
          "base_uri": "https://localhost:8080/"
        },
        "id": "u9GyMFxNzmMP",
        "outputId": "43db3eaa-a6c4-4b6e-dd1d-31f2ed6a9b28"
      },
      "execution_count": 2,
      "outputs": [
        {
          "output_type": "stream",
          "name": "stdout",
          "text": [
            "Hello Good Morning everybody\n",
            "The first half of the given string is Hello Good Mor\n"
          ]
        }
      ]
    },
    {
      "cell_type": "markdown",
      "source": [
        "Practice problem 3"
      ],
      "metadata": {
        "id": "xWAtVQNA1cMY"
      }
    },
    {
      "cell_type": "code",
      "source": [
        "t1 =(78,45,32,19,82,77,40,39)\n",
        "print('The given tuple of integers is ', t1)\n",
        "t1[3] = 100\n",
        "print(t1)\n",
        "#got wrong output"
      ],
      "metadata": {
        "id": "Zfam5zvg26fI"
      },
      "execution_count": null,
      "outputs": []
    },
    {
      "cell_type": "markdown",
      "source": [
        "Practice problem 4(a)"
      ],
      "metadata": {
        "id": "ec_31vTEKfwF"
      }
    },
    {
      "cell_type": "code",
      "source": [
        "listA =[19,32,10,55,31,32,94,29,10,65,77,40,40]\n",
        "listA.pop(1)\n",
        "listA\n",
        "\n"
      ],
      "metadata": {
        "colab": {
          "base_uri": "https://localhost:8080/"
        },
        "id": "xBZiYIktKCPU",
        "outputId": "24f0d05e-2992-4cac-c3ee-e9b34c3117cb"
      },
      "execution_count": null,
      "outputs": [
        {
          "output_type": "execute_result",
          "data": {
            "text/plain": [
              "[19, 10, 55, 31, 32, 94, 29, 10, 65, 77, 40, 40]"
            ]
          },
          "metadata": {},
          "execution_count": 17
        }
      ]
    },
    {
      "cell_type": "markdown",
      "source": [
        "Practice problem 4(b)"
      ],
      "metadata": {
        "id": "RUEUMEwVLxr9"
      }
    },
    {
      "cell_type": "code",
      "source": [
        "listA =[19,32,10,55,31,32,94,29,10,65,77,40,40]\n",
        "listA.remove(40)\n",
        "listA.remove(40)\n",
        "listA"
      ],
      "metadata": {
        "colab": {
          "base_uri": "https://localhost:8080/"
        },
        "id": "DIg26ijVLn4E",
        "outputId": "343bb621-4ad2-462d-8443-142030af0cd1"
      },
      "execution_count": null,
      "outputs": [
        {
          "output_type": "execute_result",
          "data": {
            "text/plain": [
              "[19, 32, 10, 55, 31, 32, 94, 29, 10, 65, 77]"
            ]
          },
          "metadata": {},
          "execution_count": 22
        }
      ]
    },
    {
      "cell_type": "markdown",
      "source": [
        "Practice problem 4(c)"
      ],
      "metadata": {
        "id": "BDd88PzgMzd1"
      }
    },
    {
      "cell_type": "code",
      "source": [
        "listA =[19,32,10,55,31,32,94,29,10,65,77,40,40]\n",
        "listA.pop(5)\n",
        "listA"
      ],
      "metadata": {
        "colab": {
          "base_uri": "https://localhost:8080/"
        },
        "id": "k7-tS4BGM5do",
        "outputId": "65ec3f42-1799-442b-9e28-98c656a52c43"
      },
      "execution_count": null,
      "outputs": [
        {
          "output_type": "execute_result",
          "data": {
            "text/plain": [
              "[19, 32, 10, 55, 31, 94, 29, 10, 65, 77, 40, 40]"
            ]
          },
          "metadata": {},
          "execution_count": 23
        }
      ]
    },
    {
      "cell_type": "markdown",
      "source": [
        "Practice problem 4(d)"
      ],
      "metadata": {
        "id": "4ty7Ls3kNWlF"
      }
    },
    {
      "cell_type": "code",
      "source": [
        "listA =[19,32,10,55,31,32,94,29,10,65,77,40,40]\n",
        "listA.pop(9)\n",
        "listA\n",
        "listA.insert(9,300)\n",
        "listA"
      ],
      "metadata": {
        "colab": {
          "base_uri": "https://localhost:8080/"
        },
        "id": "s6oETPqSNbEd",
        "outputId": "708463a6-da19-4a60-8591-acebe2e585f8"
      },
      "execution_count": null,
      "outputs": [
        {
          "output_type": "execute_result",
          "data": {
            "text/plain": [
              "[19, 32, 10, 55, 31, 32, 94, 29, 10, 300, 77, 40, 40]"
            ]
          },
          "metadata": {},
          "execution_count": 26
        }
      ]
    },
    {
      "cell_type": "markdown",
      "source": [
        "Practice problem 4(e)"
      ],
      "metadata": {
        "id": "uSSetLKDQe3N"
      }
    },
    {
      "cell_type": "code",
      "source": [
        "listA =[19,32,10,55,31,32,94,29,10,65,77,40,40]\n",
        "listA.insert(2,200)\n",
        "listA"
      ],
      "metadata": {
        "colab": {
          "base_uri": "https://localhost:8080/"
        },
        "id": "HgVrlgdHQi9V",
        "outputId": "2a1dc33b-4315-406d-dd7a-19c3efb87f73"
      },
      "execution_count": null,
      "outputs": [
        {
          "output_type": "execute_result",
          "data": {
            "text/plain": [
              "[19, 32, 200, 10, 55, 31, 32, 94, 29, 10, 65, 77, 40, 40]"
            ]
          },
          "metadata": {},
          "execution_count": 27
        }
      ]
    },
    {
      "cell_type": "markdown",
      "source": [],
      "metadata": {
        "id": "npU9EpHlQ6KM"
      }
    },
    {
      "cell_type": "markdown",
      "source": [
        "Practice problem 4(f) to find length"
      ],
      "metadata": {
        "id": "pHhX9FiBQ8Sk"
      }
    },
    {
      "cell_type": "code",
      "source": [
        "listA =[19,32,10,55,31,32,94,29,10,65,77,40,40]\n",
        "listAlen=len(listA)\n",
        "print('The length of the list is ',listAlen)"
      ],
      "metadata": {
        "colab": {
          "base_uri": "https://localhost:8080/"
        },
        "id": "hkzkt8ZKQ_80",
        "outputId": "b30c533b-d986-41fd-83bd-15f1d620196b"
      },
      "execution_count": null,
      "outputs": [
        {
          "output_type": "stream",
          "name": "stdout",
          "text": [
            "The length of the list is  13\n"
          ]
        }
      ]
    },
    {
      "cell_type": "markdown",
      "source": [
        "Practice problem 4(f) to find maximum value"
      ],
      "metadata": {
        "id": "TDbAEw3zR1dN"
      }
    },
    {
      "cell_type": "code",
      "source": [
        "listA =[19,32,10,55,31,32,94,29,10,65,77,40,40]\n",
        "listA.sort()\n",
        "listA\n",
        "print('The ;argest value in the listA is ',94)"
      ],
      "metadata": {
        "colab": {
          "base_uri": "https://localhost:8080/"
        },
        "id": "zwE1woaVR-5m",
        "outputId": "939046cb-8b96-4692-957f-3f74b712c9c2"
      },
      "execution_count": null,
      "outputs": [
        {
          "output_type": "stream",
          "name": "stdout",
          "text": [
            "The ;argest value in the listA is  94\n"
          ]
        }
      ]
    },
    {
      "cell_type": "markdown",
      "source": [
        "Practice problem 4(f) to find sum of all elements"
      ],
      "metadata": {
        "id": "zbTXVK8AS8kV"
      }
    },
    {
      "cell_type": "code",
      "source": [
        "listA =[19,32,10,55,31,32,94,29,10,65,77,40,40]\n",
        "sum = 19+32+10+55+31+32+94+29+10+65+77+40+40\n",
        "print('The sum of all elements in the listA is ',sum)"
      ],
      "metadata": {
        "colab": {
          "base_uri": "https://localhost:8080/"
        },
        "id": "n_GgE_ojTFlq",
        "outputId": "c7c600dc-0324-4508-8229-c71a118a2db6"
      },
      "execution_count": null,
      "outputs": [
        {
          "output_type": "stream",
          "name": "stdout",
          "text": [
            "The sum of all elements in the listA is  534\n"
          ]
        }
      ]
    },
    {
      "cell_type": "markdown",
      "source": [
        "Practice problem 5(a)\n",
        "#wrong answer"
      ],
      "metadata": {
        "id": "edXz_8zKTx_u"
      }
    },
    {
      "cell_type": "code",
      "source": [
        "print('The day has been long')\n",
        "s1 ='The day has been long'\n"
      ],
      "metadata": {
        "id": "r7uHmndOT3CZ"
      },
      "execution_count": null,
      "outputs": []
    },
    {
      "cell_type": "markdown",
      "source": [
        "Practice problem 5(b)\n",
        "#wrong answer\n"
      ],
      "metadata": {
        "id": "SlJfntktgSRL"
      }
    },
    {
      "cell_type": "code",
      "source": [
        "s ='The day has been long'\n",
        "print(s*4)\n"
      ],
      "metadata": {
        "id": "_MgyUNzWSk98"
      },
      "execution_count": null,
      "outputs": []
    },
    {
      "cell_type": "markdown",
      "source": [
        "Practice problem 5(c)\n",
        "#wrong answer"
      ],
      "metadata": {
        "id": "LLOx8s-fhVNc"
      }
    },
    {
      "cell_type": "code",
      "source": [
        "s ='The day hsas been long'\n",
        "print()"
      ],
      "metadata": {
        "id": "IZYshYNWhea3"
      },
      "execution_count": null,
      "outputs": []
    },
    {
      "cell_type": "code",
      "source": [],
      "metadata": {
        "id": "B39a0JIXhe60"
      },
      "execution_count": null,
      "outputs": []
    },
    {
      "cell_type": "markdown",
      "source": [
        "Practice problem 5(d)"
      ],
      "metadata": {
        "id": "Zha_Nkznh1UM"
      }
    },
    {
      "cell_type": "code",
      "source": [],
      "metadata": {
        "id": "eFx-mLyCh6Sc"
      },
      "execution_count": null,
      "outputs": []
    },
    {
      "cell_type": "markdown",
      "source": [
        "Practice problem 5(e)"
      ],
      "metadata": {
        "id": "SAj8ZCKAiaW8"
      }
    },
    {
      "cell_type": "code",
      "source": [
        "print('The day has been long')\n",
        "s ='The day has been long'\n",
        "print(s[4:15])\n"
      ],
      "metadata": {
        "colab": {
          "base_uri": "https://localhost:8080/"
        },
        "id": "B_qeXYDDieg8",
        "outputId": "4aadbf6f-a753-497b-8505-dacc2fdc71b0"
      },
      "execution_count": null,
      "outputs": [
        {
          "output_type": "stream",
          "name": "stdout",
          "text": [
            "The day has been long\n",
            "day has bee\n"
          ]
        }
      ]
    },
    {
      "cell_type": "markdown",
      "source": [
        "Practice problem 5(f)"
      ],
      "metadata": {
        "id": "15jDT_uji-j0"
      }
    },
    {
      "cell_type": "code",
      "source": [
        "s ='The day has been long'\n",
        "print(s)\n",
        "print(len(s))"
      ],
      "metadata": {
        "colab": {
          "base_uri": "https://localhost:8080/"
        },
        "id": "rCkB0_HrjDKL",
        "outputId": "c8ea7a6d-e74a-48ef-92ef-1b0d29375ad3"
      },
      "execution_count": null,
      "outputs": [
        {
          "output_type": "stream",
          "name": "stdout",
          "text": [
            "The day has been long\n",
            "21\n"
          ]
        }
      ]
    },
    {
      "cell_type": "code",
      "source": [],
      "metadata": {
        "id": "gBBEOtH5izXJ"
      },
      "execution_count": null,
      "outputs": []
    }
  ]
}