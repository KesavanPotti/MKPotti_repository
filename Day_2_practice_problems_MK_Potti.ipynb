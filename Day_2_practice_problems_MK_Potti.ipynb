{
  "nbformat": 4,
  "nbformat_minor": 0,
  "metadata": {
    "colab": {
      "provenance": [],
      "authorship_tag": "ABX9TyPwvi4GGkLM/iTDzbnegtyX",
      "include_colab_link": true
    },
    "kernelspec": {
      "name": "python3",
      "display_name": "Python 3"
    },
    "language_info": {
      "name": "python"
    }
  },
  "cells": [
    {
      "cell_type": "markdown",
      "metadata": {
        "id": "view-in-github",
        "colab_type": "text"
      },
      "source": [
        "<a href=\"https://colab.research.google.com/github/KesavanPotti/MKPotti_repository/blob/main/Day_2_practice_problems_MK_Potti.ipynb\" target=\"_parent\"><img src=\"https://colab.research.google.com/assets/colab-badge.svg\" alt=\"Open In Colab\"/></a>"
      ]
    },
    {
      "cell_type": "markdown",
      "source": [
        "Practice problem 1"
      ],
      "metadata": {
        "id": "UQTTigwGymkZ"
      }
    },
    {
      "cell_type": "code",
      "execution_count": null,
      "metadata": {
        "colab": {
          "base_uri": "https://localhost:8080/"
        },
        "id": "5wt9tBWSuDMr",
        "outputId": "a4170ca2-fc1b-4aed-f49b-4a6bf6ce7254"
      },
      "outputs": [
        {
          "output_type": "stream",
          "name": "stdout",
          "text": [
            "Given list is  [10, 20, 30, 40, 50, 60]\n",
            "The sum of all elements in the list is  210\n"
          ]
        }
      ],
      "source": [
        "l1 = [10,20,30,40,50,60]\n",
        "list_sum= 10+20+30+40+50+60\n",
        "print('Given list is ',l1)\n",
        "print(\"The sum of all elements in the list is \",list_sum)"
      ]
    },
    {
      "cell_type": "markdown",
      "source": [
        "Practice problem 2(a)"
      ],
      "metadata": {
        "id": "7P_Wl6nWzGDv"
      }
    },
    {
      "cell_type": "code",
      "source": [
        "s1 ='Hello Good Morning everybody'\n",
        "print(s1)\n",
        "print('Length of the given string is ',end='')\n",
        "l =int(len(s1))\n",
        "print(l)"
      ],
      "metadata": {
        "colab": {
          "base_uri": "https://localhost:8080/"
        },
        "id": "mwo91l5zzLoQ",
        "outputId": "2a36e699-16c1-49b6-ce00-c02a77d1a14f"
      },
      "execution_count": null,
      "outputs": [
        {
          "output_type": "stream",
          "name": "stdout",
          "text": [
            "Hello Good Morning everybody\n",
            "Length of the given string is 28\n"
          ]
        }
      ]
    },
    {
      "cell_type": "markdown",
      "source": [
        "Practice problem 2(b)"
      ],
      "metadata": {
        "id": "6AZeBuPW0zXZ"
      }
    },
    {
      "cell_type": "code",
      "source": [
        "s1 ='Hello Good Morning everybody'\n",
        "print(s1)\n",
        "l =(len(s1))\n",
        "y =int(l/2)\n",
        "print('The first half of the given string is ',end=' ')\n",
        "print(s1[0:y])"
      ],
      "metadata": {
        "colab": {
          "base_uri": "https://localhost:8080/"
        },
        "id": "u9GyMFxNzmMP",
        "outputId": "3fbf7f99-ebc9-43ac-fc54-a13ef416ee68"
      },
      "execution_count": null,
      "outputs": [
        {
          "output_type": "stream",
          "name": "stdout",
          "text": [
            "Hello Good Morning everybody\n",
            "The first half of the given string is  Hello Good Mor\n"
          ]
        }
      ]
    },
    {
      "cell_type": "markdown",
      "source": [
        "Practice problem 3\n"
      ],
      "metadata": {
        "id": "xWAtVQNA1cMY"
      }
    },
    {
      "cell_type": "code",
      "source": [
        "t1 =(78,45,32,19,82,77,40,39)\n",
        "print('The given tuple of integers is ', t1)\n",
        "print('As tuples are unchangeable or immutable its values cannot be changed')\n",
        "\n",
        "\n"
      ],
      "metadata": {
        "id": "Zfam5zvg26fI",
        "colab": {
          "base_uri": "https://localhost:8080/"
        },
        "outputId": "5f78f788-ed7c-4831-daf4-0eaa3bb47050"
      },
      "execution_count": 2,
      "outputs": [
        {
          "output_type": "stream",
          "name": "stdout",
          "text": [
            "The given tuple of integers is  (78, 45, 32, 19, 82, 77, 40, 39)\n",
            "As tuples are unchangeable or immutable its values cannot be changed\n"
          ]
        }
      ]
    },
    {
      "cell_type": "markdown",
      "source": [
        "Practice problem 4(a)"
      ],
      "metadata": {
        "id": "ec_31vTEKfwF"
      }
    },
    {
      "cell_type": "code",
      "source": [
        "listA =[19,32,10,55,31,32,94,29,10,65,77,40,40]\n",
        "listA.pop(1)\n",
        "listA\n",
        "\n"
      ],
      "metadata": {
        "colab": {
          "base_uri": "https://localhost:8080/"
        },
        "id": "xBZiYIktKCPU",
        "outputId": "24f0d05e-2992-4cac-c3ee-e9b34c3117cb"
      },
      "execution_count": null,
      "outputs": [
        {
          "output_type": "execute_result",
          "data": {
            "text/plain": [
              "[19, 10, 55, 31, 32, 94, 29, 10, 65, 77, 40, 40]"
            ]
          },
          "metadata": {},
          "execution_count": 17
        }
      ]
    },
    {
      "cell_type": "markdown",
      "source": [
        "Practice problem 4(b)"
      ],
      "metadata": {
        "id": "RUEUMEwVLxr9"
      }
    },
    {
      "cell_type": "code",
      "source": [
        "listA =[19,32,10,55,31,32,94,29,10,65,77,40,40]\n",
        "listA.remove(40)\n",
        "listA.remove(40)\n",
        "listA"
      ],
      "metadata": {
        "colab": {
          "base_uri": "https://localhost:8080/"
        },
        "id": "DIg26ijVLn4E",
        "outputId": "343bb621-4ad2-462d-8443-142030af0cd1"
      },
      "execution_count": null,
      "outputs": [
        {
          "output_type": "execute_result",
          "data": {
            "text/plain": [
              "[19, 32, 10, 55, 31, 32, 94, 29, 10, 65, 77]"
            ]
          },
          "metadata": {},
          "execution_count": 22
        }
      ]
    },
    {
      "cell_type": "markdown",
      "source": [
        "Practice problem 4(c)"
      ],
      "metadata": {
        "id": "BDd88PzgMzd1"
      }
    },
    {
      "cell_type": "code",
      "source": [
        "listA =[19,32,10,55,31,32,94,29,10,65,77,40,40]\n",
        "listA.pop(5)\n",
        "listA"
      ],
      "metadata": {
        "colab": {
          "base_uri": "https://localhost:8080/"
        },
        "id": "k7-tS4BGM5do",
        "outputId": "65ec3f42-1799-442b-9e28-98c656a52c43"
      },
      "execution_count": null,
      "outputs": [
        {
          "output_type": "execute_result",
          "data": {
            "text/plain": [
              "[19, 32, 10, 55, 31, 94, 29, 10, 65, 77, 40, 40]"
            ]
          },
          "metadata": {},
          "execution_count": 23
        }
      ]
    },
    {
      "cell_type": "markdown",
      "source": [
        "Practice problem 4(d)"
      ],
      "metadata": {
        "id": "4ty7Ls3kNWlF"
      }
    },
    {
      "cell_type": "code",
      "source": [
        "listA =[19,32,10,55,31,32,94,29,10,65,77,40,40]\n",
        "listA.pop(9)\n",
        "listA\n",
        "listA.insert(9,300)\n",
        "listA"
      ],
      "metadata": {
        "colab": {
          "base_uri": "https://localhost:8080/"
        },
        "id": "s6oETPqSNbEd",
        "outputId": "708463a6-da19-4a60-8591-acebe2e585f8"
      },
      "execution_count": null,
      "outputs": [
        {
          "output_type": "execute_result",
          "data": {
            "text/plain": [
              "[19, 32, 10, 55, 31, 32, 94, 29, 10, 300, 77, 40, 40]"
            ]
          },
          "metadata": {},
          "execution_count": 26
        }
      ]
    },
    {
      "cell_type": "markdown",
      "source": [
        "Practice problem 4(e)"
      ],
      "metadata": {
        "id": "uSSetLKDQe3N"
      }
    },
    {
      "cell_type": "code",
      "source": [
        "listA =[19,32,10,55,31,32,94,29,10,65,77,40,40]\n",
        "listA.insert(2,200)\n",
        "listA"
      ],
      "metadata": {
        "colab": {
          "base_uri": "https://localhost:8080/"
        },
        "id": "HgVrlgdHQi9V",
        "outputId": "2a1dc33b-4315-406d-dd7a-19c3efb87f73"
      },
      "execution_count": null,
      "outputs": [
        {
          "output_type": "execute_result",
          "data": {
            "text/plain": [
              "[19, 32, 200, 10, 55, 31, 32, 94, 29, 10, 65, 77, 40, 40]"
            ]
          },
          "metadata": {},
          "execution_count": 27
        }
      ]
    },
    {
      "cell_type": "markdown",
      "source": [
        "Practice problem 4(f) to find length"
      ],
      "metadata": {
        "id": "pHhX9FiBQ8Sk"
      }
    },
    {
      "cell_type": "code",
      "source": [
        "listA =[19,32,10,55,31,32,94,29,10,65,77,40,40]\n",
        "listAlen=len(listA)\n",
        "print('The length of the list is ',listAlen)"
      ],
      "metadata": {
        "colab": {
          "base_uri": "https://localhost:8080/"
        },
        "id": "hkzkt8ZKQ_80",
        "outputId": "b30c533b-d986-41fd-83bd-15f1d620196b"
      },
      "execution_count": null,
      "outputs": [
        {
          "output_type": "stream",
          "name": "stdout",
          "text": [
            "The length of the list is  13\n"
          ]
        }
      ]
    },
    {
      "cell_type": "markdown",
      "source": [
        "Practice problem 4(f) to find maximum value"
      ],
      "metadata": {
        "id": "TDbAEw3zR1dN"
      }
    },
    {
      "cell_type": "code",
      "source": [
        "listA =[19,32,10,55,31,32,94,29,10,65,77,40,40]\n",
        "listA.sort()\n",
        "listA\n",
        "print('The largest value in the listA is ',94)"
      ],
      "metadata": {
        "colab": {
          "base_uri": "https://localhost:8080/"
        },
        "id": "zwE1woaVR-5m",
        "outputId": "ba0875f5-fa62-4bbc-8cd2-d2d77d806bf9"
      },
      "execution_count": 3,
      "outputs": [
        {
          "output_type": "stream",
          "name": "stdout",
          "text": [
            "The largest value in the listA is  94\n"
          ]
        }
      ]
    },
    {
      "cell_type": "markdown",
      "source": [
        "Practice problem 4(f) to find sum of all elements"
      ],
      "metadata": {
        "id": "zbTXVK8AS8kV"
      }
    },
    {
      "cell_type": "code",
      "source": [
        "listA =[19,32,10,55,31,32,94,29,10,65,77,40,40]\n",
        "sum = 19+32+10+55+31+32+94+29+10+65+77+40+40\n",
        "print('The sum of all elements in the listA is ',sum)"
      ],
      "metadata": {
        "colab": {
          "base_uri": "https://localhost:8080/"
        },
        "id": "n_GgE_ojTFlq",
        "outputId": "c7c600dc-0324-4508-8229-c71a118a2db6"
      },
      "execution_count": null,
      "outputs": [
        {
          "output_type": "stream",
          "name": "stdout",
          "text": [
            "The sum of all elements in the listA is  534\n"
          ]
        }
      ]
    },
    {
      "cell_type": "markdown",
      "source": [
        "Practice problem 5(a)"
      ],
      "metadata": {
        "id": "edXz_8zKTx_u"
      }
    },
    {
      "cell_type": "code",
      "source": [
        "s1 ='The day has been long'\n",
        "print(s1)\n",
        "print(s1[0:4],end='')\n",
        "print(s1[5:])\n"
      ],
      "metadata": {
        "id": "r7uHmndOT3CZ",
        "colab": {
          "base_uri": "https://localhost:8080/"
        },
        "outputId": "3c0da8a8-d4b1-464a-c60f-744aadb7e722"
      },
      "execution_count": 7,
      "outputs": [
        {
          "output_type": "stream",
          "name": "stdout",
          "text": [
            "The day has been long\n",
            "The ay has been long\n"
          ]
        }
      ]
    },
    {
      "cell_type": "markdown",
      "source": [
        "Practice problem 5(b)\n"
      ],
      "metadata": {
        "id": "SlJfntktgSRL"
      }
    },
    {
      "cell_type": "code",
      "source": [
        "s =\"The day has been long \"\n",
        "print(s*4)\n"
      ],
      "metadata": {
        "id": "_MgyUNzWSk98",
        "colab": {
          "base_uri": "https://localhost:8080/"
        },
        "outputId": "b945755e-c69b-45d4-d32b-60a679e939ea"
      },
      "execution_count": 14,
      "outputs": [
        {
          "output_type": "stream",
          "name": "stdout",
          "text": [
            "The day has been long The day has been long The day has been long The day has been long \n"
          ]
        }
      ]
    },
    {
      "cell_type": "markdown",
      "source": [
        "Practice problem 5(c)"
      ],
      "metadata": {
        "id": "LLOx8s-fhVNc"
      }
    },
    {
      "cell_type": "code",
      "source": [
        "s ='The day has been long'\n",
        "print('The day has been long\\n'*3)"
      ],
      "metadata": {
        "id": "IZYshYNWhea3",
        "colab": {
          "base_uri": "https://localhost:8080/"
        },
        "outputId": "4974053a-ea24-4600-b5f5-de95ed336ac7"
      },
      "execution_count": 15,
      "outputs": [
        {
          "output_type": "stream",
          "name": "stdout",
          "text": [
            "The day has been long\n",
            "The day has been long\n",
            "The day has been long\n",
            "\n"
          ]
        }
      ]
    },
    {
      "cell_type": "markdown",
      "source": [
        "Practice problem 5(d)\n"
      ],
      "metadata": {
        "id": "Zha_Nkznh1UM"
      }
    },
    {
      "cell_type": "code",
      "source": [
        "s ='The day has been long'\n",
        "print(s)\n",
        "print(s[0:7],end='')\n",
        "print('A',end='')\n",
        "print(s[8:])"
      ],
      "metadata": {
        "id": "eFx-mLyCh6Sc",
        "colab": {
          "base_uri": "https://localhost:8080/"
        },
        "outputId": "ec6d509c-f5d4-4393-9549-253ebdf503fa"
      },
      "execution_count": 5,
      "outputs": [
        {
          "output_type": "stream",
          "name": "stdout",
          "text": [
            "The day has been long\n",
            "The dayAhas been long\n"
          ]
        }
      ]
    },
    {
      "cell_type": "markdown",
      "source": [
        "Practice problem 5(e)"
      ],
      "metadata": {
        "id": "SAj8ZCKAiaW8"
      }
    },
    {
      "cell_type": "code",
      "source": [
        "print('The day has been long')\n",
        "s ='The day has been long'\n",
        "print(s[4:15])\n"
      ],
      "metadata": {
        "colab": {
          "base_uri": "https://localhost:8080/"
        },
        "id": "B_qeXYDDieg8",
        "outputId": "4aadbf6f-a753-497b-8505-dacc2fdc71b0"
      },
      "execution_count": null,
      "outputs": [
        {
          "output_type": "stream",
          "name": "stdout",
          "text": [
            "The day has been long\n",
            "day has bee\n"
          ]
        }
      ]
    },
    {
      "cell_type": "markdown",
      "source": [
        "Practice problem 5(f)"
      ],
      "metadata": {
        "id": "15jDT_uji-j0"
      }
    },
    {
      "cell_type": "code",
      "source": [
        "s ='The day has been long'\n",
        "print(s)\n",
        "print(len(s))"
      ],
      "metadata": {
        "colab": {
          "base_uri": "https://localhost:8080/"
        },
        "id": "rCkB0_HrjDKL",
        "outputId": "c8ea7a6d-e74a-48ef-92ef-1b0d29375ad3"
      },
      "execution_count": null,
      "outputs": [
        {
          "output_type": "stream",
          "name": "stdout",
          "text": [
            "The day has been long\n",
            "21\n"
          ]
        }
      ]
    }
  ]
}