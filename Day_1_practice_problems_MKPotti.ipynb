{
  "nbformat": 4,
  "nbformat_minor": 0,
  "metadata": {
    "colab": {
      "provenance": [],
      "authorship_tag": "ABX9TyOmAHFL/Wbbxr5imUBseoS8",
      "include_colab_link": true
    },
    "kernelspec": {
      "name": "python3",
      "display_name": "Python 3"
    },
    "language_info": {
      "name": "python"
    }
  },
  "cells": [
    {
      "cell_type": "markdown",
      "metadata": {
        "id": "view-in-github",
        "colab_type": "text"
      },
      "source": [
        "<a href=\"https://colab.research.google.com/github/KesavanPotti/MKPotti_repository/blob/main/Day_1_practice_problems_MKPotti.ipynb\" target=\"_parent\"><img src=\"https://colab.research.google.com/assets/colab-badge.svg\" alt=\"Open In Colab\"/></a>"
      ]
    },
    {
      "cell_type": "markdown",
      "source": [],
      "metadata": {
        "id": "Ab5ByamymX2F"
      }
    },
    {
      "cell_type": "markdown",
      "source": [
        "Practice problem 1"
      ],
      "metadata": {
        "id": "dpTQJ3S8mjoT"
      }
    },
    {
      "cell_type": "code",
      "execution_count": null,
      "metadata": {
        "id": "T1psw68rhk5B",
        "colab": {
          "base_uri": "https://localhost:8080/"
        },
        "outputId": "5d7486e5-0b9f-4611-ad74-38f9524c6bd0"
      },
      "outputs": [
        {
          "output_type": "stream",
          "name": "stdout",
          "text": [
            "Hello World!\n",
            "Hello\n"
          ]
        }
      ],
      "source": [
        "print('Hello World!')\n",
        "print('Hello')\n"
      ]
    },
    {
      "cell_type": "markdown",
      "source": [
        "Practice problem 2"
      ],
      "metadata": {
        "id": "SMWm-8xHm1-T"
      }
    },
    {
      "cell_type": "code",
      "source": [
        "print('Python is fun')\n",
        "print('is')"
      ],
      "metadata": {
        "colab": {
          "base_uri": "https://localhost:8080/"
        },
        "id": "Yy3TevmPm7Hs",
        "outputId": "50d26c4e-15cb-4180-b679-d283c48840f1"
      },
      "execution_count": null,
      "outputs": [
        {
          "output_type": "stream",
          "name": "stdout",
          "text": [
            "Python is fun\n",
            "is\n"
          ]
        }
      ]
    },
    {
      "cell_type": "markdown",
      "source": [
        "Practice problem 3"
      ],
      "metadata": {
        "id": "vZrKYHVonLTz"
      }
    },
    {
      "cell_type": "code",
      "source": [
        "s1='Programming'\n",
        "print(s1[3:7])"
      ],
      "metadata": {
        "colab": {
          "base_uri": "https://localhost:8080/"
        },
        "id": "zMfp9B2PnOLM",
        "outputId": "15ad3cc6-2976-4706-b3ad-7473cf435087"
      },
      "execution_count": 2,
      "outputs": [
        {
          "output_type": "stream",
          "name": "stdout",
          "text": [
            "gram\n"
          ]
        }
      ]
    },
    {
      "cell_type": "markdown",
      "source": [
        "Practice problem 4"
      ],
      "metadata": {
        "id": "CZECJBNSn0Q9"
      }
    },
    {
      "cell_type": "code",
      "source": [
        "s1 = 'abcdefgh'\n",
        "print(s1)\n",
        "print(s1[1:8:2])"
      ],
      "metadata": {
        "colab": {
          "base_uri": "https://localhost:8080/"
        },
        "id": "e1CXmve_n2Tl",
        "outputId": "a1f2d13c-cfab-4ae1-86d4-5d67168f7d8f"
      },
      "execution_count": 3,
      "outputs": [
        {
          "output_type": "stream",
          "name": "stdout",
          "text": [
            "abcdefgh\n",
            "bdfh\n"
          ]
        }
      ]
    },
    {
      "cell_type": "markdown",
      "source": [
        "Practice problem 5\n"
      ],
      "metadata": {
        "id": "_IFb5qZrZnpj"
      }
    },
    {
      "cell_type": "code",
      "source": [
        "s1 = \"abcdefg\"\n",
        "print(s1)\n",
        "print(s1[4:7])\n"
      ],
      "metadata": {
        "colab": {
          "base_uri": "https://localhost:8080/"
        },
        "id": "hL43YGLxZtfK",
        "outputId": "841b2053-9f42-4dbd-d679-2d987ecea55b"
      },
      "execution_count": 4,
      "outputs": [
        {
          "output_type": "stream",
          "name": "stdout",
          "text": [
            "abcdefg\n",
            "efg\n"
          ]
        }
      ]
    },
    {
      "cell_type": "markdown",
      "source": [
        "Practice problem 6"
      ],
      "metadata": {
        "id": "3kIE3W2hvWzi"
      }
    },
    {
      "cell_type": "code",
      "source": [
        "ds = \"Data Science\"\n",
        "print(ds)\n",
        "print(ds[9:12])\n",
        "\n"
      ],
      "metadata": {
        "colab": {
          "base_uri": "https://localhost:8080/"
        },
        "id": "pBSuE0OsvZOS",
        "outputId": "de883837-1e76-464c-91e9-d700c45fdba3"
      },
      "execution_count": 5,
      "outputs": [
        {
          "output_type": "stream",
          "name": "stdout",
          "text": [
            "Data Science\n",
            "nce\n"
          ]
        }
      ]
    },
    {
      "cell_type": "markdown",
      "source": [
        "Practice problem 7"
      ],
      "metadata": {
        "id": "4cnlHpg8v3ua"
      }
    },
    {
      "cell_type": "code",
      "source": [
        "s = \"abcdefghij\"\n",
        "print(s)\n",
        "print(s[1:10:2])\n"
      ],
      "metadata": {
        "colab": {
          "base_uri": "https://localhost:8080/"
        },
        "id": "dpSJisG3v5Hj",
        "outputId": "8781ed06-997b-4936-9b79-c47acb0fdc9c"
      },
      "execution_count": null,
      "outputs": [
        {
          "output_type": "stream",
          "name": "stdout",
          "text": [
            "abcdefghij\n",
            "bdfhj\n"
          ]
        }
      ]
    },
    {
      "cell_type": "markdown",
      "source": [
        "Practice problem 8"
      ],
      "metadata": {
        "id": "fCY3brIgwRmK"
      }
    },
    {
      "cell_type": "code",
      "source": [
        "s = \"1234567890\"\n",
        "print(s)\n",
        "print(s[0:10:2])"
      ],
      "metadata": {
        "id": "a-_TTj8hwTNT",
        "colab": {
          "base_uri": "https://localhost:8080/"
        },
        "outputId": "64730785-dde7-4ebc-90e5-f944c6975b47"
      },
      "execution_count": 6,
      "outputs": [
        {
          "output_type": "stream",
          "name": "stdout",
          "text": [
            "1234567890\n",
            "13579\n"
          ]
        }
      ]
    },
    {
      "cell_type": "markdown",
      "source": [
        "Practice problem 9"
      ],
      "metadata": {
        "id": "jj9F_jgzwpC6"
      }
    },
    {
      "cell_type": "code",
      "source": [
        "s = \"Hello\"\n",
        "print(s)\n",
        "print(s[-1:-6:-1])\n",
        "\n"
      ],
      "metadata": {
        "colab": {
          "base_uri": "https://localhost:8080/"
        },
        "id": "54p6V3Nswxry",
        "outputId": "210c5b62-7fee-422d-ec60-ffea7cbc5af0"
      },
      "execution_count": 7,
      "outputs": [
        {
          "output_type": "stream",
          "name": "stdout",
          "text": [
            "Hello\n",
            "olleH\n"
          ]
        }
      ]
    },
    {
      "cell_type": "markdown",
      "source": [
        "Practice Problem 10"
      ],
      "metadata": {
        "id": "yCrTNPMv0q8M"
      }
    },
    {
      "cell_type": "code",
      "source": [
        "s = \"abcdefghijk\"\n",
        "print(s)\n",
        "print(s[0:11:2])\n",
        "\n"
      ],
      "metadata": {
        "colab": {
          "base_uri": "https://localhost:8080/"
        },
        "id": "uNDskr610t16",
        "outputId": "17d85bf8-650a-44c5-f00a-c2a6a5729152"
      },
      "execution_count": null,
      "outputs": [
        {
          "output_type": "stream",
          "name": "stdout",
          "text": [
            "abcdefghijk\n",
            "acegik\n"
          ]
        }
      ]
    },
    {
      "cell_type": "markdown",
      "source": [],
      "metadata": {
        "id": "bWY2X39pv1vz"
      }
    }
  ]
}