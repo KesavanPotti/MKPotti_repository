{
  "nbformat": 4,
  "nbformat_minor": 0,
  "metadata": {
    "colab": {
      "provenance": []
    },
    "kernelspec": {
      "name": "python3",
      "display_name": "Python 3"
    },
    "language_info": {
      "name": "python"
    }
  },
  "cells": [
    {
      "cell_type": "markdown",
      "source": [],
      "metadata": {
        "id": "Ab5ByamymX2F"
      }
    },
    {
      "cell_type": "code",
      "source": [],
      "metadata": {
        "id": "WxsOVVDvud7U"
      },
      "execution_count": null,
      "outputs": []
    },
    {
      "cell_type": "markdown",
      "source": [
        "Practice problem 1"
      ],
      "metadata": {
        "id": "dpTQJ3S8mjoT"
      }
    },
    {
      "cell_type": "code",
      "execution_count": null,
      "metadata": {
        "id": "T1psw68rhk5B",
        "colab": {
          "base_uri": "https://localhost:8080/"
        },
        "outputId": "5d7486e5-0b9f-4611-ad74-38f9524c6bd0"
      },
      "outputs": [
        {
          "output_type": "stream",
          "name": "stdout",
          "text": [
            "Hello World!\n",
            "Hello\n"
          ]
        }
      ],
      "source": [
        "print('Hello World!')\n",
        "print('Hello')\n"
      ]
    },
    {
      "cell_type": "markdown",
      "source": [
        "Practice problem 2"
      ],
      "metadata": {
        "id": "SMWm-8xHm1-T"
      }
    },
    {
      "cell_type": "code",
      "source": [
        "print('Python is fun')\n",
        "print('is')"
      ],
      "metadata": {
        "colab": {
          "base_uri": "https://localhost:8080/"
        },
        "id": "Yy3TevmPm7Hs",
        "outputId": "50d26c4e-15cb-4180-b679-d283c48840f1"
      },
      "execution_count": null,
      "outputs": [
        {
          "output_type": "stream",
          "name": "stdout",
          "text": [
            "Python is fun\n",
            "is\n"
          ]
        }
      ]
    },
    {
      "cell_type": "markdown",
      "source": [
        "Practice problem 3"
      ],
      "metadata": {
        "id": "vZrKYHVonLTz"
      }
    },
    {
      "cell_type": "code",
      "source": [
        "s1='Programming'\n",
        "print(s1[3:7])"
      ],
      "metadata": {
        "colab": {
          "base_uri": "https://localhost:8080/"
        },
        "id": "zMfp9B2PnOLM",
        "outputId": "fa02c5e0-75cb-41c4-a8f1-79871f0f8cf0"
      },
      "execution_count": null,
      "outputs": [
        {
          "output_type": "stream",
          "name": "stdout",
          "text": [
            "gram\n"
          ]
        }
      ]
    },
    {
      "cell_type": "markdown",
      "source": [
        "Practice problem 4"
      ],
      "metadata": {
        "id": "CZECJBNSn0Q9"
      }
    },
    {
      "cell_type": "code",
      "source": [
        "s1 = 'abcdefgh'\n",
        "print(s1)\n",
        "print(s1[1:8:2])"
      ],
      "metadata": {
        "colab": {
          "base_uri": "https://localhost:8080/"
        },
        "id": "e1CXmve_n2Tl",
        "outputId": "2bd61fe1-f132-4260-e964-7c0242442db0"
      },
      "execution_count": null,
      "outputs": [
        {
          "output_type": "stream",
          "name": "stdout",
          "text": [
            "abcdefgh\n",
            "bdfh\n"
          ]
        }
      ]
    },
    {
      "cell_type": "markdown",
      "source": [
        "Practice problem 5\n"
      ],
      "metadata": {
        "id": "_IFb5qZrZnpj"
      }
    },
    {
      "cell_type": "code",
      "source": [
        "s1 = \"abcdefg\"\n",
        "print(s1)\n",
        "print(s1[4:7])\n"
      ],
      "metadata": {
        "colab": {
          "base_uri": "https://localhost:8080/"
        },
        "id": "hL43YGLxZtfK",
        "outputId": "615337eb-1f08-4b00-8d3c-b5dc1422fec5"
      },
      "execution_count": null,
      "outputs": [
        {
          "output_type": "stream",
          "name": "stdout",
          "text": [
            "abcdefg\n",
            "efg\n"
          ]
        }
      ]
    },
    {
      "cell_type": "markdown",
      "source": [
        "Practice problem 6"
      ],
      "metadata": {
        "id": "3kIE3W2hvWzi"
      }
    },
    {
      "cell_type": "code",
      "source": [
        "ds = \"Data Science\"\n",
        "print(ds)\n",
        "print(ds[9:12])\n",
        "\n"
      ],
      "metadata": {
        "colab": {
          "base_uri": "https://localhost:8080/"
        },
        "id": "pBSuE0OsvZOS",
        "outputId": "f5a24176-89d3-4d92-c8e7-4cd517c28ae5"
      },
      "execution_count": null,
      "outputs": [
        {
          "output_type": "stream",
          "name": "stdout",
          "text": [
            "Data Science\n",
            "nce\n"
          ]
        }
      ]
    },
    {
      "cell_type": "markdown",
      "source": [
        "Practice problem 7"
      ],
      "metadata": {
        "id": "4cnlHpg8v3ua"
      }
    },
    {
      "cell_type": "code",
      "source": [
        "s = \"abcdefghij\"\n",
        "print(s)\n",
        "print(s[1:10:2])\n"
      ],
      "metadata": {
        "colab": {
          "base_uri": "https://localhost:8080/"
        },
        "id": "dpSJisG3v5Hj",
        "outputId": "8781ed06-997b-4936-9b79-c47acb0fdc9c"
      },
      "execution_count": null,
      "outputs": [
        {
          "output_type": "stream",
          "name": "stdout",
          "text": [
            "abcdefghij\n",
            "bdfhj\n"
          ]
        }
      ]
    },
    {
      "cell_type": "markdown",
      "source": [
        "Practice problem 8"
      ],
      "metadata": {
        "id": "fCY3brIgwRmK"
      }
    },
    {
      "cell_type": "code",
      "source": [
        "s = \"1234567890\"\n",
        "print(s)\n",
        "print(s[0:10:2])"
      ],
      "metadata": {
        "id": "a-_TTj8hwTNT"
      },
      "execution_count": null,
      "outputs": []
    },
    {
      "cell_type": "markdown",
      "source": [
        "Practice problem 9"
      ],
      "metadata": {
        "id": "jj9F_jgzwpC6"
      }
    },
    {
      "cell_type": "code",
      "source": [
        "s = \"Hello\"\n",
        "print(s)\n",
        "print(s[-1:-6:-1])\n",
        "\n"
      ],
      "metadata": {
        "colab": {
          "base_uri": "https://localhost:8080/"
        },
        "id": "54p6V3Nswxry",
        "outputId": "e7c0e129-2894-4779-d24c-ee0d236e8589"
      },
      "execution_count": null,
      "outputs": [
        {
          "output_type": "stream",
          "name": "stdout",
          "text": [
            "Hello\n",
            "olleH\n"
          ]
        }
      ]
    },
    {
      "cell_type": "markdown",
      "source": [
        "Practice Problem 10"
      ],
      "metadata": {
        "id": "yCrTNPMv0q8M"
      }
    },
    {
      "cell_type": "code",
      "source": [
        "s = \"abcdefghijk\"\n",
        "print(s)\n",
        "print(s[0:11:2])\n",
        "\n"
      ],
      "metadata": {
        "colab": {
          "base_uri": "https://localhost:8080/"
        },
        "id": "uNDskr610t16",
        "outputId": "17d85bf8-650a-44c5-f00a-c2a6a5729152"
      },
      "execution_count": null,
      "outputs": [
        {
          "output_type": "stream",
          "name": "stdout",
          "text": [
            "abcdefghijk\n",
            "acegik\n"
          ]
        }
      ]
    },
    {
      "cell_type": "markdown",
      "source": [],
      "metadata": {
        "id": "bWY2X39pv1vz"
      }
    }
  ]
}