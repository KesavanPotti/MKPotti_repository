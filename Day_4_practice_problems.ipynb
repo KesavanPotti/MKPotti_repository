{
  "nbformat": 4,
  "nbformat_minor": 0,
  "metadata": {
    "colab": {
      "provenance": [],
      "authorship_tag": "ABX9TyO0SIfhk3mrRLfo3r4uGWaG",
      "include_colab_link": true
    },
    "kernelspec": {
      "name": "python3",
      "display_name": "Python 3"
    },
    "language_info": {
      "name": "python"
    }
  },
  "cells": [
    {
      "cell_type": "markdown",
      "metadata": {
        "id": "view-in-github",
        "colab_type": "text"
      },
      "source": [
        "<a href=\"https://colab.research.google.com/github/KesavanPotti/MKPotti_repository/blob/main/Day_4_practice_problems.ipynb\" target=\"_parent\"><img src=\"https://colab.research.google.com/assets/colab-badge.svg\" alt=\"Open In Colab\"/></a>"
      ]
    },
    {
      "cell_type": "markdown",
      "source": [
        "Practice problem 1"
      ],
      "metadata": {
        "id": "VAKAsKfsP0On"
      }
    },
    {
      "cell_type": "code",
      "execution_count": null,
      "metadata": {
        "id": "eUYVPSdzzlU_"
      },
      "outputs": [],
      "source": [
        "secnum =6\n",
        "guess =int(input('Enter a number between 1 and 10:'))\n",
        "if guess==secnum:\n",
        "  print(\"Congratulations! You guessed the number correctly!\")\n",
        "elif  guess>secnum:\n",
        "  print('Too high! Try again!')\n",
        "else:\n",
        "    print(\"Too low! Try again!\")\n",
        "\n",
        "\n",
        "\n"
      ]
    },
    {
      "cell_type": "markdown",
      "source": [
        "Practice problem 2"
      ],
      "metadata": {
        "id": "wupF6_FIQWf5"
      }
    },
    {
      "cell_type": "code",
      "source": [
        "#factorial of a number\n",
        "n= int(input('Enter the number to find factorial'))\n",
        "i=1\n",
        "fact=1\n",
        "for i in range(i,n):\n",
        "  i+=1\n",
        "  fact=fact*i\n",
        "print(f'Factorial of {n} is ',fact)\n",
        "\n"
      ],
      "metadata": {
        "id": "geLA4QzfQdHZ",
        "colab": {
          "base_uri": "https://localhost:8080/"
        },
        "outputId": "15559e2b-fdab-464c-8daa-3b9746ea2b86"
      },
      "execution_count": 18,
      "outputs": [
        {
          "output_type": "stream",
          "name": "stdout",
          "text": [
            "Enter the number to find factorial5\n",
            "Factorial of 5 is  120\n"
          ]
        }
      ]
    },
    {
      "cell_type": "markdown",
      "source": [
        "Practice problem 3"
      ],
      "metadata": {
        "id": "vMT4vSefhm5b"
      }
    },
    {
      "cell_type": "code",
      "source": [
        " N=10   #N is no.of photos,given\n",
        "print(f'Given no.of photos is: {N}')\n",
        "L =30\n",
        "print(f'The recommended length L is: {L} mm')\n",
        "\n",
        "W =int(input('Enter the width of photos:'))\n",
        "H =int(input('Enter the height of the photos:'))\n",
        "if (W<L or H<L):\n",
        "  print('UPLOAD ANOTHER')\n",
        "elif (W>=L and H>=L):\n",
        "  if (W==H):\n",
        "    print('ACCEPTED')\n",
        "  else:\n",
        "    print('CROP IT')\n",
        "else:\n",
        "  print('Invalid Input')"
      ],
      "metadata": {
        "id": "voRXMAxghsAS"
      },
      "execution_count": null,
      "outputs": []
    },
    {
      "cell_type": "code",
      "source": [],
      "metadata": {
        "id": "s4SuivswkXId"
      },
      "execution_count": null,
      "outputs": []
    }
  ]
}