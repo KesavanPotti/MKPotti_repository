{
  "nbformat": 4,
  "nbformat_minor": 0,
  "metadata": {
    "colab": {
      "provenance": [],
      "authorship_tag": "ABX9TyO2CcdNgGZ/nOeaz20NajcN",
      "include_colab_link": true
    },
    "kernelspec": {
      "name": "python3",
      "display_name": "Python 3"
    },
    "language_info": {
      "name": "python"
    }
  },
  "cells": [
    {
      "cell_type": "markdown",
      "metadata": {
        "id": "view-in-github",
        "colab_type": "text"
      },
      "source": [
        "<a href=\"https://colab.research.google.com/github/KesavanPotti/MKPotti_repository/blob/main/Day_3_practice_problems.ipynb\" target=\"_parent\"><img src=\"https://colab.research.google.com/assets/colab-badge.svg\" alt=\"Open In Colab\"/></a>"
      ]
    },
    {
      "cell_type": "markdown",
      "source": [
        "Practice problem 3"
      ],
      "metadata": {
        "id": "kY4vylO4v_4e"
      }
    },
    {
      "cell_type": "code",
      "execution_count": 11,
      "metadata": {
        "id": "_oqj-_xFvYUM",
        "colab": {
          "base_uri": "https://localhost:8080/"
        },
        "outputId": "de3a53e9-f77e-4c6b-8d6f-5848a08abe93"
      },
      "outputs": [
        {
          "output_type": "stream",
          "name": "stdout",
          "text": [
            "Enter the age: 25\n",
            "Enter the gender(M/F):M\n",
            "Ticket price is Rs.50\n"
          ]
        }
      ],
      "source": [
        "age =int(input(\"Enter the age: \"))\n",
        "gender=input('Enter the gender(M/F):')\n",
        "if(gender=='M'):\n",
        "  if age<5:\n",
        "    print('Ticket price is free')\n",
        "  elif age>=5 and age<=12:\n",
        "    print('Ticket price is Rs.10')\n",
        "  elif age>12 and age<=60:\n",
        "    print('Ticket price is Rs.50')\n",
        "  else:\n",
        "    print('Ticket price is free')\n",
        "elif gender=='F':\n",
        "  if age<5:\n",
        "    print('Ticket price is free')\n",
        "  elif age>=5 and age<=12:\n",
        "    print(\"Ticket price is Rs.5\")\n",
        "  elif age>12 and age<=60:\n",
        "    print('Ticket price is Rs.25')\n",
        "  else:\n",
        "    print('Ticket price is free')\n",
        "else:\n",
        "  print('Invalid gender')\n"
      ]
    },
    {
      "cell_type": "markdown",
      "source": [
        "Practice problem 1"
      ],
      "metadata": {
        "id": "5HFv2k1gv5YY"
      }
    },
    {
      "cell_type": "code",
      "source": [
        "score_list =['Arun 90','Bipin 88','Dom 86','Frank 84','Harish 96','Jose 92']\n",
        "print('The score list is: ',score_list)\n",
        "print('The runner up score is: ',score_list[5])\n"
      ],
      "metadata": {
        "id": "oGVI88fewXUG"
      },
      "execution_count": null,
      "outputs": []
    },
    {
      "cell_type": "markdown",
      "source": [
        "Practice  problem 2 -error in pgm"
      ],
      "metadata": {
        "id": "UBOqpUHO36I1"
      }
    },
    {
      "cell_type": "code",
      "source": [
        "dict ={'John':[25,32,43],'Peter':[87,55,96],'Ram':[58,55,43],'Meena':[63,79,85]}\n",
        "dict['John']\n",
        "n =input('Please enter the name')\n",
        "if dict[]=='John' or 'Peter' or 'Ram' or 'Meena':\n",
        "  dict.update()=[88,77,99]\n",
        "  print(dict[]=[88,77,99])\n",
        "else:\n",
        "  print('Name not found')\n"
      ],
      "metadata": {
        "id": "kPdAwxFD4A2Z",
        "colab": {
          "base_uri": "https://localhost:8080/",
          "height": 106
        },
        "outputId": "cc77a1cb-a57f-44ea-bf9b-170aa0082710"
      },
      "execution_count": 3,
      "outputs": [
        {
          "output_type": "error",
          "ename": "SyntaxError",
          "evalue": "invalid syntax (<ipython-input-3-ea537d7c29f2>, line 4)",
          "traceback": [
            "\u001b[0;36m  File \u001b[0;32m\"<ipython-input-3-ea537d7c29f2>\"\u001b[0;36m, line \u001b[0;32m4\u001b[0m\n\u001b[0;31m    if dict[]=='John' or 'Peter' or 'Ram' or 'Meena':\u001b[0m\n\u001b[0m            ^\u001b[0m\n\u001b[0;31mSyntaxError\u001b[0m\u001b[0;31m:\u001b[0m invalid syntax\n"
          ]
        }
      ]
    }
  ]
}