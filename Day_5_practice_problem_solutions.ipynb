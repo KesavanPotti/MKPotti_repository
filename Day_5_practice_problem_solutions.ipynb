{
  "nbformat": 4,
  "nbformat_minor": 0,
  "metadata": {
    "colab": {
      "provenance": [],
      "authorship_tag": "ABX9TyN9bLA3EGrf4XbRBhYTCHXH",
      "include_colab_link": true
    },
    "kernelspec": {
      "name": "python3",
      "display_name": "Python 3"
    },
    "language_info": {
      "name": "python"
    }
  },
  "cells": [
    {
      "cell_type": "markdown",
      "metadata": {
        "id": "view-in-github",
        "colab_type": "text"
      },
      "source": [
        "<a href=\"https://colab.research.google.com/github/KesavanPotti/MKPotti_repository/blob/main/Day_5_practice_problem_solutions.ipynb\" target=\"_parent\"><img src=\"https://colab.research.google.com/assets/colab-badge.svg\" alt=\"Open In Colab\"/></a>"
      ]
    },
    {
      "cell_type": "markdown",
      "source": [
        "Practice problem 1"
      ],
      "metadata": {
        "id": "73pxdIhsxjEo"
      }
    },
    {
      "cell_type": "code",
      "source": [
        "a =float(input('Enter the 1st value:'))\n",
        "b =float(input('Enter the 2nd value:'))\n",
        "c =float(input('Enter the 3rd value:'))\n",
        "list1 =[]\n",
        "list1.append(a)\n",
        "list1.append(b)\n",
        "list1.append(c)\n",
        "print('The list thus formed is',list1)\n",
        "print('The middle element is:',list1[1])\n"
      ],
      "metadata": {
        "colab": {
          "base_uri": "https://localhost:8080/"
        },
        "id": "kZgvUiOZxrsE",
        "outputId": "33543e8f-50a8-46d5-a486-7d84972bd80e"
      },
      "execution_count": 24,
      "outputs": [
        {
          "output_type": "stream",
          "name": "stdout",
          "text": [
            "Enter the 1st value:10\n",
            "Enter the 2nd value:20\n",
            "Enter the 3rd value:5\n",
            "The list thus formed is [10.0, 20.0, 5.0]\n",
            "The middle element is: 20.0\n"
          ]
        }
      ]
    },
    {
      "cell_type": "markdown",
      "source": [
        "Practice problem 2"
      ],
      "metadata": {
        "id": "_4HK_k5Ix0vM"
      }
    },
    {
      "cell_type": "code",
      "source": [
        "def addition(a1,a2):\n",
        "  sum=a1+a2\n",
        "  print(f'sum of {a1} and {a2} is ',sum)\n",
        "  return sum\n",
        "\n",
        "def subtraction(b1,b2):\n",
        "  diff=b1-b2\n",
        "  print(f'Difference of {b1} and {b2} is',diff)\n",
        "  return diff\n",
        "\n",
        "def mul(c1,c2):\n",
        "  mul=c1*c2\n",
        "  print(f'Product of {c1} and {c2} is ',mul)\n",
        "  return mul\n",
        "\n",
        "\n",
        "def div(d1,d2):\n",
        "  div=d1/d2\n",
        "  print(f'Quotient  of {d1} and {d2} is ',div)\n",
        "  return div\n",
        "\n",
        "\n",
        "def perc(e1,e2):\n",
        "  perc=(e1/e2)*100\n",
        "  print(f'Percentage of {e1} / {e2} is ',perc)\n",
        "  return perc\n",
        "\n",
        "\n",
        "\n",
        "#main program calling the functions\n",
        "addition(20,40)\n",
        "addition(-20,40)\n",
        "subtraction(60,10)\n",
        "subtraction(40,80)\n",
        "mul(8,5)\n",
        "mul(8,-5)\n",
        "div(40,3)\n",
        "div(40,-3)\n",
        "div(3,40)\n",
        "perc(3,5)"
      ],
      "metadata": {
        "colab": {
          "base_uri": "https://localhost:8080/"
        },
        "id": "2EUwIh0qx4Ak",
        "outputId": "756c4e67-0195-47ff-a03a-7a473e11fea1"
      },
      "execution_count": 23,
      "outputs": [
        {
          "output_type": "stream",
          "name": "stdout",
          "text": [
            "sum of 20 and 40 is  60\n",
            "sum of -20 and 40 is  20\n",
            "Difference of 60 and 10 is 50\n",
            "Difference of 40 and 80 is -40\n",
            "Product of 8 and 5 is  40\n",
            "Product of 8 and -5 is  -40\n",
            "Quotient  of 40 and 3 is  13.333333333333334\n",
            "Quotient  of 40 and -3 is  -13.333333333333334\n",
            "Quotient  of 3 and 40 is  0.075\n",
            "Percentage of 3 / 5 is  60.0\n"
          ]
        },
        {
          "output_type": "execute_result",
          "data": {
            "text/plain": [
              "60.0"
            ]
          },
          "metadata": {},
          "execution_count": 23
        }
      ]
    },
    {
      "cell_type": "markdown",
      "source": [
        "Practice Problem 3"
      ],
      "metadata": {
        "id": "WigVQI0ByAdz"
      }
    },
    {
      "cell_type": "code",
      "source": [
        "def hypo(a,b):\n",
        "  a =float(input('Enter the length of one shorter side:'))\n",
        "  b =float(input('Enter the length of the other shorter side '))\n",
        "  hypo_square=(a**2)+(b**2)\n",
        "  hypo=(hypo_square)**0.5\n",
        "  print(f'Hypotenuse of right angled triangle formed by sides {a} and {b} is ',hypo)\n",
        "  return hypo\n",
        "\n",
        "\n",
        "#main program calling the 'hypo' function\n",
        "hypo(a,b)\n",
        "hypo(a,b)\n",
        "hypo(a,b)"
      ],
      "metadata": {
        "colab": {
          "base_uri": "https://localhost:8080/"
        },
        "id": "jzZxduf1yFqr",
        "outputId": "4073cb55-e165-4439-a5ec-bc2dc9b7ba61"
      },
      "execution_count": 32,
      "outputs": [
        {
          "output_type": "stream",
          "name": "stdout",
          "text": [
            "Enter the length of one shorter side:3\n",
            "Enter the length of the other shorter side 4\n",
            "Hypotenuse of right angled triangle formed by sides 3.0 and 4.0 is  5.0\n",
            "Enter the length of one shorter side:6\n",
            "Enter the length of the other shorter side 8\n",
            "Hypotenuse of right angled triangle formed by sides 6.0 and 8.0 is  10.0\n",
            "Enter the length of one shorter side:3\n",
            "Enter the length of the other shorter side 10\n",
            "Hypotenuse of right angled triangle formed by sides 3.0 and 10.0 is  10.44030650891055\n"
          ]
        },
        {
          "output_type": "execute_result",
          "data": {
            "text/plain": [
              "10.44030650891055"
            ]
          },
          "metadata": {},
          "execution_count": 32
        }
      ]
    },
    {
      "cell_type": "code",
      "source": [],
      "metadata": {
        "id": "GY8qvOIt-AxH"
      },
      "execution_count": null,
      "outputs": []
    }
  ]
}